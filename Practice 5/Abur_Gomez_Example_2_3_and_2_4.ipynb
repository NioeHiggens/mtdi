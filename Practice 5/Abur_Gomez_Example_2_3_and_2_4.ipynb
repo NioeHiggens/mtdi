{
 "cells": [
  {
   "cell_type": "markdown",
   "metadata": {},
   "source": [
    "# Example 2.3 from the book: Power System State Estimation - Theory and Implementation, Abur and Gómez"
   ]
  },
  {
   "cell_type": "markdown",
   "metadata": {},
   "source": [
    "## Network Data\n",
    "\n",
    "| From bus  | To bus    | R (pu)    | X (pu)    | Total line Charging Suceptance    |\n",
    "|-----------|--------\t|--------\t|--------\t|--------                           |\n",
    "| 1         | 2         | 0.01      | 0.03      | 0.00                              |\n",
    "| 1         | 3         | 0.02      | 0.05      | 0.00                              |\n",
    "| 2         | 3         | 0.03      | 0.08      | 0.00                              |"
   ]
  },
  {
   "cell_type": "markdown",
   "metadata": {},
   "source": [
    "## Measurement values and their associated error standard deviations\n",
    "| Measurement, i    | Type      | Value (pu)    | $\\sqrt{R_{ii}}$ |\n",
    "|----------         |-------    |--------\t    |-------          |\n",
    "| 1                 | $p_{12}$  | 0.8888        | 0.008           |\n",
    "| 2                 | $p_{13}$  | 0.8888        | 0.008           |\n",
    "| 3                 | $p_{2}$   | 0.8888        | 0.010           |\n",
    "| 4                 | $q_{12}$  | 0.8888        | 0.008           |\n",
    "| 5                 | $q_{13}$  | 0.8888        | 0.008           |\n",
    "| 6                 | $q_{2}$   | 0.8888        | 0.010           |\n",
    "| 7                 | $V_{1}$   | 0.8888        | 0.004           |\n",
    "| 8                 | $V_{2}$   | 0.8888        | 0.004           |"
   ]
  },
  {
   "cell_type": "markdown",
   "metadata": {},
   "source": [
    "### Define variables"
   ]
  },
  {
   "cell_type": "code",
   "execution_count": null,
   "metadata": {},
   "outputs": [],
   "source": [
    "import numpy as np\n",
    "import pandas as pd\n",
    "from IPython.display import display, Latex\n",
    "\n",
    "a = 0.98\n",
    "z_12 = 0.01 + 0.03j\n",
    "y_12 = 1/z_12\n",
    "g_12 = np.real(y_12)\n",
    "b_12 = np.imag(y_12)\n",
    "\n",
    "z_13 = 0.02 + 0.05j\n",
    "y_13 = 1/z_13\n",
    "g_13 = np.real(y_13)\n",
    "b_13 = np.imag(y_13)\n",
    "\n",
    "z_23 = 0.03 + 0.08j\n",
    "y_23 = 1/z_23\n",
    "g_23 = np.real(y_23)\n",
    "b_23 = np.imag(y_23)\n",
    "\n",
    "P_12 = 0.888\n",
    "P_13 = 1.173\n",
    "P_2 = -0.501\n",
    "Q_12 = 0.568\n",
    "Q_13 = 0.663\n",
    "Q_2 = -0.286\n",
    "V_1 = 1.006\n",
    "V_2 = 0.968\n",
    "\n",
    "z = np.array([P_12, P_13, P_2, Q_12, Q_13, Q_2, V_1, V_2])\n",
    "\n",
    "display(Latex(f'$z=$ {z} '))\n",
    "\n",
    "print(g_12)\n"
   ]
  },
  {
   "cell_type": "markdown",
   "metadata": {},
   "source": [
    "## Measurement Jacobian"
   ]
  },
  {
   "cell_type": "code",
   "execution_count": 2,
   "metadata": {},
   "outputs": [],
   "source": [
    "m = 8\n",
    "n = 5\n",
    "\n",
    "theta_1 = 0\n",
    "\n",
    "theta_2_0 = 0\n",
    "theta_3_0 = 0\n",
    "V_1_0 = 1.0\n",
    "V_2_0 = 1.0\n",
    "V_3_0 = 1.0\n",
    "\n",
    "theta_12_0 = theta_1 - theta_2_0\n",
    "theta_13_0 = theta_1 - theta_3_0\n",
    "theta_23_0 = theta_2_0 - theta_3_0\n",
    "\n",
    "H_0 = np.zeros((m,n))\n",
    "\n",
    "x_0 = np.array([theta_2_0, theta_3_0, V_1_0, V_2_0, V_3_0])"
   ]
  },
  {
   "cell_type": "markdown",
   "metadata": {},
   "source": [
    "### Elements corresponding to real power flow measurements:\n",
    "\n",
    "$\\frac{\\partial P_{ij}}{\\theta_i} = -V_i V_j(g_{ij}\\sin{\\theta_{ij}} - b_{ij}\\cos{\\theta_{ij}})$\n",
    "\n",
    "$\\frac{\\partial P_{ij}}{\\theta_j} = -V_i V_j(g_{ij}\\sin{\\theta_{ij}} - b_{ij}\\cos{\\theta_{ij}})$\n",
    "\n",
    "$\\frac{\\partial P_{ij}}{V_i} = -V_j(g_{ij}\\cos{\\theta_{ij}} + b_{ij}\\sin{\\theta_{ij}}) + 2(g_{ij}+g_{si})V_i$\n",
    "\n",
    "$\\frac{\\partial P_{ij}}{V_j} = -V_i(g_{ij}\\cos{\\theta_{ij}} + b_{ij}\\sin{\\theta_{ij}})$"
   ]
  },
  {
   "cell_type": "code",
   "execution_count": 3,
   "metadata": {},
   "outputs": [],
   "source": [
    "d_p12_d_theta2 = -V_1_0*V_2_0*(g_12*np.sin(theta_12_0) - b_12*np.cos(theta_12_0))\n",
    "d_p12_d_theta3 = 0\n",
    "d_p12_d_V1 = -V_2_0*(g_12*np.cos(theta_12_0) + b_12*np.sin(theta_12_0)) + 2*(g_12)*V_1_0\n",
    "d_p12_d_V2 = -V_1_0*(g_12*np.cos(theta_12_0) + b_12*np.sin(theta_12_0))\n",
    "d_p12_d_V3 = 0\n",
    "H_0[0,:] = [d_p12_d_theta2, d_p12_d_theta3, d_p12_d_V1, d_p12_d_V2, d_p12_d_V3]\n",
    "\n",
    "d_p13_d_theta2 = 0\n",
    "d_p13_d_theta3 = -V_1_0*V_3_0*(g_13*np.sin(theta_13_0) - b_13*np.cos(theta_13_0))\n",
    "d_p13_d_V1 = -V_3_0*(g_13*np.cos(theta_13_0) + b_13*np.sin(theta_13_0)) + 2*(g_13)*V_1_0\n",
    "d_p13_d_V2 = 0\n",
    "d_p13_d_V3 = -V_1_0*(g_13*np.cos(theta_13_0) + b_13*np.sin(theta_13_0))\n",
    "H_0[1,:] = [d_p13_d_theta2, d_p13_d_theta3, d_p13_d_V1, d_p13_d_V2, d_p13_d_V3]"
   ]
  },
  {
   "cell_type": "markdown",
   "metadata": {},
   "source": [
    "### Elements corresponding to real power injection measurements:\n",
    "\n",
    "$\\frac{\\partial P_i}{\\theta_i} = -\\sum_{j=1}^N V_i V_j(-G_{ij}\\sin{\\theta_{ij}} + B_{ij}\\cos{\\theta_{ij}}) - V_i^2B_{ii}$\n",
    "\n",
    "$\\frac{\\partial P_i}{\\theta_j} = -V_i V_j(G_{ij}\\sin{\\theta_{ij}} - B_{ij}\\cos{\\theta_{ij}})$\n",
    "\n",
    "$\\frac{\\partial P_i}{V_i} = \\sum_{j=1}^N V_j(G_{ij}\\cos{\\theta_{ij}} + B_{ij}\\sin{\\theta_{ij}}) - V_iG_{ii}$\n",
    "\n",
    "$\\frac{\\partial P_i}{V_j} = -V_i(G_{ij}\\cos{\\theta_{ij}} + B_{ij}\\sin{\\theta_{ij}})$"
   ]
  },
  {
   "cell_type": "code",
   "execution_count": 4,
   "metadata": {},
   "outputs": [],
   "source": [
    "d_p2_d_theta_2 = -V_2_0*V_1_0*(-g_12*np.sin(theta_12_0) + b_12*np.cos(theta_12_0)) - V_2_0*V_3_0*(-g_23*np.sin(theta_23_0) + b_23*np.cos(theta_23_0))\n",
    "d_p2_d_theta_3 = -V_2_0*V_3_0*(g_23*np.sin(theta_23_0) - b_23*np.cos(theta_23_0))\n",
    "d_p2_d_V1 = -V_2_0*(g_12*np.cos(theta_12_0) + b_12*np.sin(theta_12_0))\n",
    "d_p2_d_V2 = V_1_0*(g_12*np.cos(theta_12_0) + b_12*np.sin(theta_12_0)) + V_3_0*(g_23*np.cos(theta_23_0) + b_23*np.sin(theta_23_0))\n",
    "d_p2_d_V3 = -V_2_0*(g_23*np.cos(theta_23_0) + b_23*np.sin(theta_23_0))\n",
    "H_0[2,:] = [d_p2_d_theta_2, d_p2_d_theta_3, d_p2_d_V1, d_p2_d_V2, d_p2_d_V3]"
   ]
  },
  {
   "cell_type": "markdown",
   "metadata": {},
   "source": [
    "### Elements corresponding to reactive power flow measurements:\n",
    "\n",
    "$\\frac{\\partial Q_{ij}}{\\theta_i} = -V_i V_j(g_{ij}\\cos{\\theta_{ij}} + b_{ij}\\sin{\\theta_{ij}})$\n",
    "\n",
    "$\\frac{\\partial Q_{ij}}{\\theta_j} = V_i V_j(g_{ij}\\cos{\\theta_{ij}} + b_{ij}\\sin{\\theta_{ij}})$\n",
    "\n",
    "$\\frac{\\partial Q_{ij}}{V_i} = -V_j(g_{ij}\\sin{\\theta_{ij}} - b_{ij}\\cos{\\theta_{ij}}) - 2V_i(b_{ij}+b_{si})$\n",
    "\n",
    "$\\frac{\\partial Q_{ij}}{V_j} = -V_i(g_{ij}\\sin{\\theta_{ij}} - b_{ij}\\cos{\\theta_{ij}})$"
   ]
  },
  {
   "cell_type": "code",
   "execution_count": 5,
   "metadata": {},
   "outputs": [],
   "source": [
    "d_q12_d_theta2 = V_1_0*V_2_0*(g_12*np.cos(theta_12_0) + b_12*np.sin(theta_12_0))\n",
    "d_q12_d_theta3 = 0\n",
    "d_q12_d_V1 = -V_2_0*(g_12*np.sin(theta_12_0) - b_12*np.cos(theta_12_0)) - 2*(b_12)*V_1_0\n",
    "d_q12_d_V2 = -V_1_0*(g_12*np.sin(theta_12_0) - b_12*np.cos(theta_12_0))\n",
    "d_q12_d_V3 = 0\n",
    "H_0[3,:] = [d_q12_d_theta2, d_q12_d_theta3, d_q12_d_V1, d_q12_d_V2, d_q12_d_V3]\n",
    "\n",
    "d_q13_d_theta2 = 0\n",
    "d_q13_d_theta3 = V_1_0*V_3_0*(g_13*np.cos(theta_13_0) + b_13*np.sin(theta_13_0))\n",
    "d_q13_d_V1 = -V_3_0*(g_13*np.sin(theta_13_0) - b_13*np.cos(theta_13_0)) - 2*(b_13)*V_1_0\n",
    "d_q13_d_V2 = 0\n",
    "d_q13_d_V3 = -V_1_0*(g_13*np.sin(theta_13_0) - b_13*np.cos(theta_13_0))\n",
    "H_0[4,:] = [d_q13_d_theta2, d_q13_d_theta3, d_q13_d_V1, d_q13_d_V2, d_q13_d_V3]"
   ]
  },
  {
   "cell_type": "markdown",
   "metadata": {},
   "source": [
    "### Elements corresponding to reactive power injection measurements:\n",
    "\n",
    "$\\frac{\\partial Q_i}{\\theta_i} = -\\sum_{j=1}^N V_i V_j(G_{ij}\\cos{\\theta_{ij}} + B_{ij}\\sin{\\theta_{ij}}) - V_i^2G_{ii}$\n",
    "\n",
    "$\\frac{\\partial Q_i}{\\theta_j} = -V_i V_j(-G_{ij}\\cos{\\theta_{ij}} - B_{ij}\\sin{\\theta_{ij}})$\n",
    "\n",
    "$\\frac{\\partial Q_i}{V_i} = \\sum_{j=1}^N V_j(G_{ij}\\sin{\\theta_{ij}} - B_{ij}\\cos{\\theta_{ij}}) - V_iB_{ii}$\n",
    "\n",
    "$\\frac{\\partial Q_i}{V_j} = -V_i(G_{ij}\\sin{\\theta_{ij}} - B_{ij}\\cos{\\theta_{ij}})$"
   ]
  },
  {
   "cell_type": "code",
   "execution_count": null,
   "metadata": {},
   "outputs": [],
   "source": [
    "d_q2_d_theta_2 = -V_2_0*V_1_0*(g_12*np.cos(theta_12_0) + b_12*np.sin(theta_12_0)) - V_2_0*V_3_0*(g_23*np.cos(theta_23_0) + b_23*np.sin(theta_23_0))\n",
    "d_q2_d_theta_3 = -V_2_0*V_3_0*(-g_23*np.cos(theta_23_0) - b_23*np.sin(theta_23_0))\n",
    "d_q2_d_V1 = -V_2_0*(g_12*np.sin(theta_12_0) - b_12*np.cos(theta_12_0))\n",
    "d_q2_d_V2 = V_1_0*(g_12*np.sin(theta_12_0) - b_12*np.cos(theta_12_0)) + V_3_0*(g_23*np.sin(theta_23_0) - b_23*np.cos(theta_23_0))\n",
    "d_q2_d_V3 = -V_2_0*(g_23*np.sin(theta_23_0) - b_23*np.cos(theta_23_0))\n",
    "H_0[5,:] = [d_q2_d_theta_2, d_q2_d_theta_3, d_q2_d_V1, d_q2_d_V2, d_q2_d_V3]\n",
    "\n",
    "d_v1_d_v1 = 1\n",
    "H_0[6,2] = d_v1_d_v1 \n",
    "d_v2_d_v2 = 1\n",
    "H_0[7,3] = d_v2_d_v2 \n",
    "\n",
    "display(Latex(f'$H(x^0)=$'))\n",
    "print(H_0)\n"
   ]
  },
  {
   "cell_type": "markdown",
   "metadata": {},
   "source": [
    "## Gain matrix"
   ]
  },
  {
   "cell_type": "code",
   "execution_count": null,
   "metadata": {},
   "outputs": [],
   "source": [
    "R = np.diag([0.008**2, 0.008**2, 0.010**2, 0.008**2, 0.008**2, 0.010**2, 0.004**2, 0.004**2])\n",
    "G = H_0.T.dot(np.linalg.inv(R)).dot(H_0)\n",
    "print(G)"
   ]
  },
  {
   "cell_type": "code",
   "execution_count": null,
   "metadata": {},
   "outputs": [],
   "source": []
  }
 ],
 "metadata": {
  "kernelspec": {
   "display_name": "Python 3",
   "language": "python",
   "name": "python3"
  },
  "language_info": {
   "codemirror_mode": {
    "name": "ipython",
    "version": 3
   },
   "file_extension": ".py",
   "mimetype": "text/x-python",
   "name": "python",
   "nbconvert_exporter": "python",
   "pygments_lexer": "ipython3",
   "version": "3.10.12"
  }
 },
 "nbformat": 4,
 "nbformat_minor": 2
}
