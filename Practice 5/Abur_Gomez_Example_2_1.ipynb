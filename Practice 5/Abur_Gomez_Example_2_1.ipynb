{
 "cells": [
  {
   "cell_type": "markdown",
   "metadata": {},
   "source": [
    "# Example 2.1 from the book: Power System State Estimation - Theory and Implementation, Abur and Gómez"
   ]
  },
  {
   "cell_type": "markdown",
   "metadata": {},
   "source": [
    "## Network Data\n",
    "\n",
    "| From bus  | To bus    | R (pu)    | X (pu)    | Total line Charging Suceptance    | Tap a | Tap side bus  |\n",
    "|-----------|--------\t|--------\t|--------\t|--------                           |-------|--------\t    |\n",
    "| 1         | 2         | 0.02      | 0.06      | 0.20                              | -     | -             |\n",
    "| 1         | 3         | 0.02      | 0.06      | 0.25                              | -     | -             |\n",
    "| 2         | 3         | 0.05      | 0.1       | 0.00                              | -     | -             |\n",
    "| 2         | 4         | 0.00      | 0.08      | 0.00                              | 0.98  | 2             |"
   ]
  },
  {
   "cell_type": "markdown",
   "metadata": {},
   "source": [
    "## Steady-state bus voltages\n",
    "| Bus No.  | Voltage Mag. pu    | Phase angle degrees |\n",
    "|----------|--------\t        |--------\t          |\n",
    "| 1        | 1.0000             | 0.02                |\n",
    "| 2        | 0.9629             | 0.02                |\n",
    "| 3        | 0.9597             | 0.05                |\n",
    "| 4        | 0.9742             | 0.00                |"
   ]
  },
  {
   "cell_type": "markdown",
   "metadata": {},
   "source": [
    "### Define variables"
   ]
  },
  {
   "cell_type": "code",
   "execution_count": null,
   "metadata": {},
   "outputs": [],
   "source": [
    "import numpy as np\n",
    "import pandas as pd\n",
    "from IPython.display import display, Latex\n",
    "\n",
    "a = 0.98\n",
    "Z_12 = 0.02 + 0.06j\n",
    "Y_12 = 1/Z_12\n",
    "B_12 = 0.20j\n",
    "\n",
    "Z_13 = 0.02 + 0.06j\n",
    "Y_13 = 1/Z_13\n",
    "B_13 = 0.25j\n",
    "\n",
    "Z_23 = 0.05 + 0.1j\n",
    "Y_23 = 1/Z_23\n",
    "\n",
    "Z_24 = 0.00 + 0.08j\n",
    "Y_24 = 1/Z_24\n",
    "\n",
    "Y_1 = B_12/2 + B_13/2\n",
    "Y_2 = B_12/2\n",
    "Y_3 = B_13/2 + 0.5j\n",
    "\n",
    "display(Latex(f'$Y_{{12}}=$ {Y_12} '))\n",
    "display(Latex(f'$Y_{{13}}=$ {Y_13} '))\n",
    "display(Latex(f'$Y_{{23}}=$ {Y_23} '))\n",
    "display(Latex(f'$Y_{{24}}=$ {Y_24} '))\n",
    "\n",
    "V_1 = 1.00\n",
    "V_2 = 0.9629 * np.exp(1j*np.deg2rad(-2.76))\n",
    "V_3 = 0.9597 * np.exp(1j*np.deg2rad(-3.58))\n",
    "V_4 = 0.9742 * np.exp(1j*np.deg2rad(-3.96))\n",
    "\n",
    "V = np.array([V_1, V_2, V_3, V_4])\n"
   ]
  },
  {
   "cell_type": "markdown",
   "metadata": {},
   "source": [
    "## Nodal equations for the 2-port pi-model of the transformer"
   ]
  },
  {
   "cell_type": "code",
   "execution_count": null,
   "metadata": {},
   "outputs": [],
   "source": [
    "Y_trafo = np.array([[Y_24/a**2, -Y_24/a], [-Y_24/a, Y_24]])\n",
    "print(Y_trafo)"
   ]
  },
  {
   "cell_type": "markdown",
   "metadata": {},
   "source": [
    "## Bus admittance matrix for the entire system"
   ]
  },
  {
   "cell_type": "code",
   "execution_count": null,
   "metadata": {},
   "outputs": [],
   "source": [
    "Y = np.array([[Y_1 + Y_12 + Y_13, -Y_12, -Y_13, 0],\n",
    "              [-Y_12, Y_2 + Y_12 + Y_23 + Y_trafo[0,0], -Y_23, Y_trafo[0,1]],\n",
    "              [-Y_13, -Y_23, Y_3 + Y_13 + Y_23, 0],\n",
    "              [0, Y_trafo[1,0], 0, Y_trafo[1,1]]])\n",
    "print(Y)"
   ]
  },
  {
   "cell_type": "code",
   "execution_count": null,
   "metadata": {},
   "outputs": [],
   "source": [
    "S = np.multiply(V, np.matmul(np.conj(Y),np.conj(V)))\n",
    "\n",
    "print(S)"
   ]
  }
 ],
 "metadata": {
  "kernelspec": {
   "display_name": "Python 3",
   "language": "python",
   "name": "python3"
  },
  "language_info": {
   "codemirror_mode": {
    "name": "ipython",
    "version": 3
   },
   "file_extension": ".py",
   "mimetype": "text/x-python",
   "name": "python",
   "nbconvert_exporter": "python",
   "pygments_lexer": "ipython3",
   "version": "3.10.12"
  }
 },
 "nbformat": 4,
 "nbformat_minor": 2
}
