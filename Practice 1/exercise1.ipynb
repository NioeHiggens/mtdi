{
 "cells": [
  {
   "cell_type": "markdown",
   "metadata": {},
   "source": [
    "# Exercise 1\n",
    "Voltage measurements, by using a voltmeter, are repeated 10 times:\n",
    "1. What category this uncertainty belong to?\n",
    "2. Calculate the measurement value from the table below\n",
    "3. Calculate the standard deviation\n",
    "4. How many degrees of freedom can you assign?"
   ]
  },
  {
   "cell_type": "code",
   "execution_count": 7,
   "metadata": {},
   "outputs": [],
   "source": [
    "import numpy as np\n",
    "import pandas as pd\n",
    "\n",
    "V = [5.10, 5.20, 5.14, 5.15, 5.22, 5.08, 5.15, 5.12, 5.16]"
   ]
  },
  {
   "cell_type": "markdown",
   "metadata": {},
   "source": [
    "# Solutions\n",
    "## 1. What category this uncertainty belong to?\n",
    "Type A characterization"
   ]
  },
  {
   "cell_type": "markdown",
   "metadata": {},
   "source": [
    "## 2. Calculate the measurement value from the table below\n",
    "Measurement value = Mean Value\n",
    "\n",
    "$\\bar{V} = \\frac{1}{N}\\sum_{k=1}^N x_k = \\frac{1}{10}(x_1 + x_2 + \\ldots + x_{10})$"
   ]
  },
  {
   "cell_type": "code",
   "execution_count": null,
   "metadata": {},
   "outputs": [],
   "source": [
    "\n",
    "# Pure python\n",
    "V_mean_python = sum(V)/len(V)\n",
    "\n",
    "print('V_mean = {}'.format(V_mean_python))"
   ]
  },
  {
   "cell_type": "code",
   "execution_count": null,
   "metadata": {},
   "outputs": [],
   "source": [
    "# Using numpy\n",
    "V_numpy = np.array(V)\n",
    "V_mean_numpy = V_numpy.mean()\n",
    "\n",
    "print('V_mean = {}'.format(V_mean_numpy))"
   ]
  },
  {
   "cell_type": "code",
   "execution_count": null,
   "metadata": {},
   "outputs": [],
   "source": [
    "# Using pandas, lacks the 1/N factor\n",
    "V_pandas = pd.Series(V)\n",
    "V_pandas.describe()"
   ]
  },
  {
   "cell_type": "markdown",
   "metadata": {},
   "source": [
    "## 3. Calculate the standard deviation\n",
    "Uncertainty calculation\n",
    "- Variance of measurement samples\n",
    "- Variance of mean\n",
    "- Uncertainty"
   ]
  },
  {
   "cell_type": "code",
   "execution_count": null,
   "metadata": {},
   "outputs": [],
   "source": [
    "# Pure Python\n",
    "# Experimental variance of the observations\n",
    "u2_exp_v = sum([(v_j - V_mean_python)**2 for v_j in V])/(len(V) - 1)\n",
    "\n",
    "u2_v = u2_exp_v/len(V)\n",
    "u_v = np.sqrt(u2_v)\n",
    "\n",
    "print('u2_exp_v = {}'.format(u2_exp_v))\n",
    "print('u2_v = {}'.format(u2_v))\n",
    "print('u_v = {}'.format(u_v))"
   ]
  },
  {
   "cell_type": "code",
   "execution_count": null,
   "metadata": {},
   "outputs": [],
   "source": [
    "# Using Numpy\n",
    "u_v = np.std(V, ddof=1)/np.sqrt(len(V))\n",
    "\n",
    "print('u_v = {}'.format(u_v))"
   ]
  },
  {
   "cell_type": "markdown",
   "metadata": {},
   "source": [
    "## 4. How many degrees of freedom can you assign?"
   ]
  },
  {
   "cell_type": "markdown",
   "metadata": {},
   "source": [
    "Degrees of freedom: $ν=10−1=9$"
   ]
  }
 ],
 "metadata": {
  "kernelspec": {
   "display_name": "Python 3",
   "language": "python",
   "name": "python3"
  },
  "language_info": {
   "codemirror_mode": {
    "name": "ipython",
    "version": 3
   },
   "file_extension": ".py",
   "mimetype": "text/x-python",
   "name": "python",
   "nbconvert_exporter": "python",
   "pygments_lexer": "ipython3",
   "version": "3.10.12"
  }
 },
 "nbformat": 4,
 "nbformat_minor": 2
}
