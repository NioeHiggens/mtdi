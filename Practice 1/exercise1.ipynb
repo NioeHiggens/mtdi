{
 "cells": [
  {
   "cell_type": "markdown",
   "metadata": {},
   "source": [
    "# Practice 1 - Exercise 1\n",
    "Voltage measurements, by using a voltmeter, are repeated 10 times:\n",
    "1. What category this uncertainty belong to?\n",
    "2. Calculate the measurement value from the table below\n",
    "3. Calculate the standard deviation\n",
    "4. How many degrees of freedom can you assign?\n",
    "\n",
    "**Measured Values**\n",
    "\n",
    "| Meas              \t| 1      \t| 2      \t| 3      \t| 4      \t| 5      \t| 6      \t| 7      \t| 8      \t| 9      \t| 10     \t|\n",
    "|-------------------\t|--------\t|--------\t|--------\t|--------\t|--------\t|--------\t|--------\t|--------\t|--------\t|--------\t|\n",
    "| Voltage Magnitude \t| 5.10 V \t| 5.20 V \t| 5.14 V \t| 5.15 V \t| 5.22 V \t| 5.08 V \t| 5.18 V \t| 5.15 V \t| 5.12 V \t| 5.16 V \t|\n"
   ]
  },
  {
   "cell_type": "code",
   "execution_count": 16,
   "metadata": {},
   "outputs": [],
   "source": [
    "import numpy as np\n",
    "import pandas as pd\n",
    "from IPython.display import display, Latex\n",
    "\n",
    "V = [5.10, 5.20, 5.14, 5.15, 5.22, 5.08, 5.15, 5.12, 5.16]"
   ]
  },
  {
   "cell_type": "markdown",
   "metadata": {},
   "source": [
    "# Solutions\n",
    "## 1. What category this uncertainty belong to?\n",
    "Type A characterization"
   ]
  },
  {
   "cell_type": "markdown",
   "metadata": {},
   "source": [
    "## 2. Calculate the measurement value from the table below\n",
    "Measurement value = Mean Value\n",
    "\n",
    "$\\bar{V} = \\frac{1}{N}\\sum_{k=1}^N x_k = \\frac{1}{10}(x_1 + x_2 + \\ldots + x_{10})$"
   ]
  },
  {
   "cell_type": "markdown",
   "metadata": {},
   "source": [
    "### Pure Python"
   ]
  },
  {
   "cell_type": "code",
   "execution_count": null,
   "metadata": {},
   "outputs": [],
   "source": [
    "\n",
    "V_mean_python = sum(V)/len(V)\n",
    "\n",
    "print('V_mean = {}'.format(V_mean_python))"
   ]
  },
  {
   "cell_type": "markdown",
   "metadata": {},
   "source": [
    "### Using Numpy"
   ]
  },
  {
   "cell_type": "code",
   "execution_count": null,
   "metadata": {},
   "outputs": [],
   "source": [
    "V_numpy = np.array(V)\n",
    "V_mean_numpy = V_numpy.mean()\n",
    "\n",
    "print('V_mean = {}'.format(V_mean_numpy))"
   ]
  },
  {
   "cell_type": "markdown",
   "metadata": {},
   "source": [
    "### Using Pandas\n",
    "Notice that it gives the expermental standard deviation, not the experimental standard deviation of the mean"
   ]
  },
  {
   "cell_type": "code",
   "execution_count": null,
   "metadata": {},
   "outputs": [],
   "source": [
    "V_pandas = pd.Series(V)\n",
    "V_pandas.describe()"
   ]
  },
  {
   "cell_type": "markdown",
   "metadata": {},
   "source": [
    "## 3. Calculate the standard deviation\n",
    "Uncertainty calculation\n",
    "- Variance of measurement samples\n",
    "$$ S^2(V)=\\frac{1}{N-1}\\sum_{k=1}^{N}(x_k-\\overline{V}^2) $$\n",
    "- Variance of mean\n",
    "$$ S^2(\\overline{V})=\\frac{S^2(V)}{N} $$\n",
    "- Uncertainty\n",
    "$$ u_V = S(\\overline{V})= \\sqrt{S^2(\\overline{V})} $$"
   ]
  },
  {
   "cell_type": "markdown",
   "metadata": {},
   "source": [
    "### Pure Python"
   ]
  },
  {
   "cell_type": "code",
   "execution_count": null,
   "metadata": {},
   "outputs": [],
   "source": [
    "# Experimental variance of the observations\n",
    "s2_exp_v = sum([(v_j - V_mean_python)**2 for v_j in V])/(len(V) - 1)\n",
    "\n",
    "# Experimental standard deviation (just for reference)\n",
    "s_exp_v = np.sqrt(s2_exp_v)\n",
    "\n",
    "u2_v = s2_exp_v/len(V)\n",
    "u_v = np.sqrt(u2_v)\n",
    "\n",
    "display(Latex(f'$s^2(V)$ = {s2_exp_v}'))\n",
    "display(Latex(f'$s(V)$ = {s_exp_v}'))\n",
    "display(Latex(f'$u^2(\\\\overline{{V}})$ = {u2_v}'))\n",
    "display(Latex(f'$u(\\\\overline{{V}})$ = {u_v}'))"
   ]
  },
  {
   "cell_type": "markdown",
   "metadata": {},
   "source": [
    "### Using Numpy"
   ]
  },
  {
   "cell_type": "code",
   "execution_count": null,
   "metadata": {},
   "outputs": [],
   "source": [
    "u_v = np.std(V, ddof=1)/np.sqrt(len(V))\n",
    "\n",
    "display(Latex(f'$u(\\\\overline{{V}})$ = {u_v}'))"
   ]
  },
  {
   "cell_type": "markdown",
   "metadata": {},
   "source": [
    "## 4. How many degrees of freedom can you assign?"
   ]
  },
  {
   "cell_type": "markdown",
   "metadata": {},
   "source": [
    "Degrees of freedom: $ν=10−1=9$"
   ]
  }
 ],
 "metadata": {
  "kernelspec": {
   "display_name": "Python 3",
   "language": "python",
   "name": "python3"
  },
  "language_info": {
   "codemirror_mode": {
    "name": "ipython",
    "version": 3
   },
   "file_extension": ".py",
   "mimetype": "text/x-python",
   "name": "python",
   "nbconvert_exporter": "python",
   "pygments_lexer": "ipython3",
   "version": "3.10.12"
  }
 },
 "nbformat": 4,
 "nbformat_minor": 2
}
