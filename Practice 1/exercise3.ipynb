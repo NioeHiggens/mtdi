{
 "cells": [
  {
   "cell_type": "markdown",
   "metadata": {},
   "source": [
    "# Exercise 3"
   ]
  },
  {
   "cell_type": "markdown",
   "metadata": {},
   "source": [
    "The previous voltmeter and ammeters of exercises 1 and 2 are used to measure the power of a load. Suppose the internal resistance of the ammeter is negligible and the internal resistance of the voltmeter is infinite. The voltage measured is 10.00 V and the current measured is 3.500 A. Assume the electromechanical current measurements for the calculation.\n",
    "1. Sketch the measurement circuit\n",
    "2. What is the value to be assigned to the measurement?\n",
    "3. What is the value to be asigned to the uncertainty?\n",
    "4. What category this uncertainty belong to?"
   ]
  },
  {
   "cell_type": "code",
   "execution_count": null,
   "metadata": {},
   "outputs": [],
   "source": [
    "import numpy as np\n",
    "\n",
    "V = 10.00\n",
    "I = 3.5\n",
    "\n",
    "u_I = 0.015\n",
    "u_V = 0.014\n",
    "\n",
    "P = V*I\n",
    "u_P = np.sqrt((V**2)*(u_I**2) + (I**2)*(u_V**2))\n",
    "\n",
    "print('u_P = {}'.format(u_P))"
   ]
  }
 ],
 "metadata": {
  "kernelspec": {
   "display_name": "Python 3",
   "language": "python",
   "name": "python3"
  },
  "language_info": {
   "codemirror_mode": {
    "name": "ipython",
    "version": 3
   },
   "file_extension": ".py",
   "mimetype": "text/x-python",
   "name": "python",
   "nbconvert_exporter": "python",
   "pygments_lexer": "ipython3",
   "version": "3.10.12"
  }
 },
 "nbformat": 4,
 "nbformat_minor": 2
}
