{
 "cells": [
  {
   "cell_type": "markdown",
   "metadata": {},
   "source": [
    "# Exercise 2\n",
    "An electromechanical ammeter of class 0.3 and end of scale value 10A is used to measure a current.\n",
    "\n",
    "If the measured value is 3.5 A:\n",
    "1. What category this uncertainty belong to?\n",
    "2. What is the uncertainty to be attributed to this measurement assuming Gaussian distribution of the error and coverage factor equal to 3?\n",
    "3. If the output of the Ammeter is then digitized by a linear 8 bit ADC, what is the uncertainty of the digitized currentn measurements?\n",
    "4. What is the combined uncertainty?"
   ]
  },
  {
   "cell_type": "markdown",
   "metadata": {},
   "source": [
    "# Solutions"
   ]
  },
  {
   "cell_type": "markdown",
   "metadata": {},
   "source": [
    "## 2. What is the uncertainty to be attributed to this measurement assuming Gaussian distribution of the error and coverage factor equal to 3?"
   ]
  },
  {
   "cell_type": "code",
   "execution_count": null,
   "metadata": {},
   "outputs": [],
   "source": [
    "import numpy as np\n",
    "\n",
    "accuracy_class = 0.3\n",
    "coverage_factor = 3\n",
    "I_max = 10\n",
    "\n",
    "u_Am1 = (accuracy_class/(coverage_factor*100)) * I_max\n",
    "\n",
    "print('u_Am1 = {}'.format(u_Am1))"
   ]
  },
  {
   "cell_type": "markdown",
   "metadata": {},
   "source": [
    "## 3. If the output of the Ammeter is then digitized by a linear 8 bit ADC, what is the uncertainty of the digitized currentn measurements?"
   ]
  },
  {
   "cell_type": "code",
   "execution_count": null,
   "metadata": {},
   "outputs": [],
   "source": [
    "n_bits = 8\n",
    "\n",
    "Delta = I_max / (2**n_bits)\n",
    "u_Q = Delta / np.sqrt(12)\n",
    "\n",
    "print('u_Q = {}'.format(u_Q))"
   ]
  },
  {
   "cell_type": "markdown",
   "metadata": {},
   "source": [
    "## 4. What is the combined uncertainty?"
   ]
  },
  {
   "cell_type": "code",
   "execution_count": null,
   "metadata": {},
   "outputs": [],
   "source": [
    "u_Aout = np.sqrt(u_Am1**2 + u_Q**2)\n",
    "print('u_Aout = {}'.format(u_Aout))"
   ]
  }
 ],
 "metadata": {
  "kernelspec": {
   "display_name": "Python 3",
   "language": "python",
   "name": "python3"
  },
  "language_info": {
   "codemirror_mode": {
    "name": "ipython",
    "version": 3
   },
   "file_extension": ".py",
   "mimetype": "text/x-python",
   "name": "python",
   "nbconvert_exporter": "python",
   "pygments_lexer": "ipython3",
   "version": "3.10.12"
  }
 },
 "nbformat": 4,
 "nbformat_minor": 2
}
