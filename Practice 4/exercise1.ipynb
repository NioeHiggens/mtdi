{
 "cells": [
  {
   "cell_type": "markdown",
   "metadata": {},
   "source": [
    "# Practice 4 - Exercise 2\n",
    "Compute the value of P and Q in magnitude and phase for a nominal frequency of 60 Hz, a frequency deviation of 5Hz and a sampling rate of 24 samples per cycle."
   ]
  },
  {
   "cell_type": "code",
   "execution_count": null,
   "metadata": {},
   "outputs": [],
   "source": [
    "import numpy as np\n",
    "import pandas as pd\n",
    "from IPython.display import display, Latex\n",
    "\n",
    "V_m = 100\n",
    "f_0 = 60\n",
    "omega_0 = 2*np.pi*f_0\n",
    "Delta_omega = 2*np.pi*0.5\n",
    "omega = omega_0 + Delta_omega\n",
    "f = omega/(2*np.pi)\n",
    "\n",
    "N = 24\n",
    "Delta_t = 1/(N*f_0)\n",
    "Delta_t_true = 1/(N*f)\n",
    "\n",
    "P = ((np.sin((N*Delta_omega*Delta_t)/2))/(N*np.sin((Delta_omega*Delta_t)/2))) * np.exp(1j*(N-1)*((Delta_omega*Delta_t)/2))\n",
    "Q = ((np.sin((N*(omega+omega_0)*Delta_t)/2))/(N*np.sin(((omega+omega_0)*Delta_t)/2))) * np.exp(-1j*(N-1)*(((omega+omega_0)*Delta_t)/2))\n",
    "\n",
    "P_mag = abs(P)\n",
    "P_phase = np.angle(P, deg=True)\n",
    "\n",
    "Q_mag = abs(Q)\n",
    "Q_phase = np.angle(Q, deg=True)\n",
    "\n",
    "print('P_mag = {}'.format(P_mag))\n",
    "print('P_phase = {}'.format(P_phase))\n",
    "print('Q_mag = {}'.format(Q_mag))\n",
    "print('Q_phase = {}'.format(Q_phase))"
   ]
  }
 ],
 "metadata": {
  "kernelspec": {
   "display_name": "Python 3",
   "language": "python",
   "name": "python3"
  },
  "language_info": {
   "codemirror_mode": {
    "name": "ipython",
    "version": 3
   },
   "file_extension": ".py",
   "mimetype": "text/x-python",
   "name": "python",
   "nbconvert_exporter": "python",
   "pygments_lexer": "ipython3",
   "version": "3.10.12"
  }
 },
 "nbformat": 4,
 "nbformat_minor": 2
}
